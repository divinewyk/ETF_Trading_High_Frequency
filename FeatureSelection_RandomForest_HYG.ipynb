{
 "cells": [
  {
   "cell_type": "markdown",
   "id": "c33adeec",
   "metadata": {},
   "source": [
    "## Import and Functions"
   ]
  },
  {
   "cell_type": "code",
   "execution_count": 1,
   "id": "7c91b28a",
   "metadata": {
    "ExecuteTime": {
     "end_time": "2022-03-15T00:01:59.261281Z",
     "start_time": "2022-03-15T00:01:58.277719Z"
    }
   },
   "outputs": [],
   "source": [
    "import pandas as pd\n",
    "import numpy as np\n",
    "import matplotlib.pyplot as plt\n",
    "\n",
    "from sklearn.tree import DecisionTreeClassifier\n",
    "from sklearn.ensemble import RandomForestClassifier\n",
    "from sklearn.metrics import accuracy_score, ConfusionMatrixDisplay\n",
    "\n",
    "import optuna\n",
    "from optuna.trial import Trial\n",
    "from functools import partial\n",
    "optuna.logging.set_verbosity(optuna.logging.FATAL)\n",
    "import warnings\n",
    "warnings.filterwarnings(\"ignore\")"
   ]
  },
  {
   "cell_type": "code",
   "execution_count": 2,
   "id": "e84fd7aa",
   "metadata": {
    "ExecuteTime": {
     "end_time": "2022-03-15T00:01:59.276684Z",
     "start_time": "2022-03-15T00:01:59.262279Z"
    }
   },
   "outputs": [],
   "source": [
    "def get_metrics(metrics):\n",
    "    df = pd.read_csv(metrics,parse_dates=['date'],index_col='date')\n",
    "    df.dropna(inplace=True)\n",
    "    return df"
   ]
  },
  {
   "cell_type": "code",
   "execution_count": 3,
   "id": "8cc45554",
   "metadata": {
    "ExecuteTime": {
     "end_time": "2022-03-15T00:01:59.291681Z",
     "start_time": "2022-03-15T00:01:59.277676Z"
    }
   },
   "outputs": [],
   "source": [
    "def toClassLabels(x, returnMetric):\n",
    "    if x[returnMetric] > 0:\n",
    "        return 1\n",
    "    elif x[returnMetric] < 0:\n",
    "        return -1\n",
    "    else:\n",
    "        return 0"
   ]
  },
  {
   "cell_type": "code",
   "execution_count": 4,
   "id": "674f6039",
   "metadata": {
    "ExecuteTime": {
     "end_time": "2022-03-15T00:01:59.307684Z",
     "start_time": "2022-03-15T00:01:59.292679Z"
    }
   },
   "outputs": [],
   "source": [
    "def optunaOptimize(method = \"accuracy\"):\n",
    "    # run optimization for hyperparams\n",
    "    study = optuna.create_study(direction=\"maximize\")\n",
    "    study.optimize(partial(objective,\n",
    "                           train_x=train_x, train_y=train_y,\n",
    "                           train_rets=train_actRets, method=method), \n",
    "                   n_trials=200, n_jobs=-1)\n",
    "    study.best_params\n",
    "    \n",
    "    print('Optimal Parameters\\n', study.best_params)\n",
    "    \n",
    "    # create a random forest classifier with the optimal hyperparams and fit\n",
    "    rf_clf = RandomForestClassifier(**study.best_params)\n",
    "    rf_clf.fit(train_x, train_y)\n",
    "    return rf_clf\n",
    "\n",
    "def objective(trial:Trial, train_x=None, train_y=None, train_rets=None, method=None):\n",
    "\n",
    "    rf_n_estimators = trial.suggest_int('n_estimators', 10,40,step=5)\n",
    "    rf_max_features = trial.suggest_categorical('max_features',['sqrt','log2'])\n",
    "    rf_min_samples_leaf = trial.suggest_int('min_samples_leaf',600,2400,step=200)\n",
    "    rf_max_depth = trial.suggest_int('max_depth',4,15)\n",
    "    \n",
    "    rf_clf = RandomForestClassifier(n_estimators=rf_n_estimators,\n",
    "                                    max_depth=rf_max_depth,\n",
    "                                    min_samples_leaf=rf_min_samples_leaf,\n",
    "                                    max_features=rf_max_features)\n",
    "    rf_clf.fit(train_x, train_y)\n",
    "    \n",
    "\n",
    "    if method == \"profit\":\n",
    "        preds = rf_clf.predict(train_x)\n",
    "        return (preds * train_rets).sum()\n",
    "    \n",
    "    elif method == \"accuracy\":\n",
    "        return rf_clf.score(train_x, train_y)\n",
    "\n"
   ]
  },
  {
   "cell_type": "code",
   "execution_count": 5,
   "id": "f38ad319",
   "metadata": {
    "ExecuteTime": {
     "end_time": "2022-03-15T00:01:59.323671Z",
     "start_time": "2022-03-15T00:01:59.307684Z"
    }
   },
   "outputs": [],
   "source": [
    "def randomforest_feat_importances(m, df):\n",
    "    return pd.DataFrame({'cols':df.columns, 'feat_imp': m.feature_importances_}\n",
    "                       ).sort_values('feat_imp', ascending=False)\n",
    "\n",
    "def plot_fi(fi):\n",
    "    return fi.plot('cols', 'feat_imp', 'barh', figsize=(11,8), legend=False)"
   ]
  },
  {
   "cell_type": "code",
   "execution_count": 6,
   "id": "2b860ed1",
   "metadata": {
    "ExecuteTime": {
     "end_time": "2022-03-15T00:01:59.355695Z",
     "start_time": "2022-03-15T00:01:59.340745Z"
    }
   },
   "outputs": [],
   "source": [
    "def profit_importance(m,df,rets):\n",
    "#     np.random.seed(123)\n",
    "    profit = []\n",
    "    for col in df.columns:\n",
    "        prof = []\n",
    "        for _ in range(100):\n",
    "            X = df.copy()\n",
    "            X[col] = np.random.permutation(df[col].values)\n",
    "            prediction = m.predict(X)\n",
    "            prof.append((prediction * rets).sum())\n",
    "        profit.append(np.mean(prof))\n",
    "    return profit\n",
    "\n",
    "def randomforest_profit_importance(m, df,rets):\n",
    "    return pd.DataFrame({'cols':df.columns, 'pi_imp':profit_importance(m,df,rets)}\n",
    "                       ).sort_values('pi_imp', ascending=True)"
   ]
  },
  {
   "cell_type": "code",
   "execution_count": 7,
   "id": "d5c23aa6",
   "metadata": {
    "ExecuteTime": {
     "end_time": "2022-03-15T00:01:59.575984Z",
     "start_time": "2022-03-15T00:01:59.558915Z"
    }
   },
   "outputs": [],
   "source": [
    "def findBestPIComb(rf_clf, pi, bestFeats):\n",
    "    profits = []\n",
    "    feat=[]\n",
    "\n",
    "    train_x_temp = train_x[bestFeats].copy()\n",
    "    test_x_temp = test_x[bestFeats].copy()\n",
    "\n",
    "    while len(train_x_temp.columns)>1:\n",
    "        col_to_drop = pi.iloc[-1]['cols']  # remove worst prof importance one at a time\n",
    "        train_x_temp.drop(col_to_drop, axis=1, inplace=True)\n",
    "        test_x_temp.drop(col_to_drop, axis=1, inplace=True)\n",
    "\n",
    "        rf_clf.fit(train_x_temp, train_y)\n",
    "        pi = randomforest_profit_importance(rf_clf, test_x_temp, test_actRets)\n",
    "\n",
    "        pred_test = rf_clf.predict(test_x_temp)\n",
    "\n",
    "        print((pred_test * test_actRets).sum())\n",
    "        profits.append((pred_test * test_actRets).sum())\n",
    "        feat.append(train_x_temp.columns)\n",
    "    \n",
    "    return profits, feat"
   ]
  },
  {
   "cell_type": "markdown",
   "id": "ee24ca0f",
   "metadata": {},
   "source": [
    "## Setup"
   ]
  },
  {
   "cell_type": "code",
   "execution_count": 8,
   "id": "ad1433ad",
   "metadata": {
    "ExecuteTime": {
     "end_time": "2022-03-15T00:02:00.642301Z",
     "start_time": "2022-03-15T00:02:00.306535Z"
    }
   },
   "outputs": [],
   "source": [
    "# read in raw data\n",
    "dataPath = \"final_features/HYG_metrics.csv\"\n",
    "raw = get_metrics(dataPath)\n",
    "\n",
    "# add a column based on 'fwd_rtn_5min'\n",
    "# 1 if the return is pos\n",
    "# 0 if the return is 0\n",
    "# -1 if the return is neg\n",
    "raw['rel_perf'] = raw.apply(lambda x: toClassLabels(x, 'fwd_rtn_5min'), axis=1)"
   ]
  },
  {
   "cell_type": "code",
   "execution_count": 9,
   "id": "c3c9428f",
   "metadata": {
    "ExecuteTime": {
     "end_time": "2022-03-15T00:02:00.704411Z",
     "start_time": "2022-03-15T00:02:00.690458Z"
    }
   },
   "outputs": [],
   "source": [
    "train = raw.loc[:'2020-06']  # train on first half of year\n",
    "test = raw.loc['2020-07':]  # test on second half of year"
   ]
  },
  {
   "cell_type": "code",
   "execution_count": 10,
   "id": "1a51b843",
   "metadata": {
    "ExecuteTime": {
     "end_time": "2022-03-15T00:02:01.184848Z",
     "start_time": "2022-03-15T00:02:01.174878Z"
    },
    "scrolled": true
   },
   "outputs": [],
   "source": [
    "colsToDrop = ['rel_perf', 'iNAV','PRICE','NBB','NBO','NBOqty', 'NBBqty', 'NBO_temp', 'NBB_temp'] + [col for col in raw.columns if 'rtn' in col]\n",
    "\n",
    "train_x = train.drop(colsToDrop, axis=1)\n",
    "train_y = train['rel_perf']\n",
    "train_actRets = train['fwd_rtn_5min']\n",
    "\n",
    "test_x = test.drop(colsToDrop, axis=1)\n",
    "test_y = test['rel_perf']\n",
    "test_actRets = test['fwd_rtn_5min']"
   ]
  },
  {
   "cell_type": "markdown",
   "id": "c87cf47f",
   "metadata": {},
   "source": [
    "## Random Forest Based on Maximizing Accuracy"
   ]
  },
  {
   "cell_type": "code",
   "execution_count": 11,
   "id": "faa49471",
   "metadata": {
    "ExecuteTime": {
     "end_time": "2022-03-14T18:28:08.715976Z",
     "start_time": "2022-03-14T18:27:57.346217Z"
    },
    "scrolled": true
   },
   "outputs": [
    {
     "name": "stdout",
     "output_type": "stream",
     "text": [
      "Optimal Parameters\n",
      " {'n_estimators': 40, 'max_features': 'log2', 'min_samples_leaf': 600, 'max_depth': 11}\n",
      "Train Accuracy: 0.536403880568899\n",
      "Test Accuracy: 0.46510122954608485\n"
     ]
    }
   ],
   "source": [
    "rf_clf_accuracy = optunaOptimize('accuracy')\n",
    "\n",
    "# the test/valid accuarcy\n",
    "print(\"Train Accuracy:\", rf_clf_accuracy.score(train_x, train_y))\n",
    "print(\"Test Accuracy:\", rf_clf_accuracy.score(test_x, test_y))"
   ]
  },
  {
   "cell_type": "code",
   "execution_count": 12,
   "id": "500b24a3",
   "metadata": {
    "ExecuteTime": {
     "end_time": "2022-03-14T18:28:08.840412Z",
     "start_time": "2022-03-14T18:28:08.716973Z"
    },
    "scrolled": false
   },
   "outputs": [
    {
     "name": "stdout",
     "output_type": "stream",
     "text": [
      "num feats:  21\n"
     ]
    },
    {
     "data": {
      "image/png": "[encoded data removed]",
      "text/plain": [
       "<Figure size 792x576 with 1 Axes>"
      ]
     },
     "metadata": {
      "needs_background": "light"
     },
     "output_type": "display_data"
    }
   ],
   "source": [
    "# best features have highest profit importance\n",
    "fi = randomforest_feat_importances(rf_clf_accuracy, train_x)\n",
    "features = fi[(fi['feat_imp'] > 0.02)]\n",
    "print('num feats: ', features.shape[0])\n",
    "plot_fi(features);"
   ]
  },
  {
   "cell_type": "code",
   "execution_count": 13,
   "id": "1d877da6",
   "metadata": {
    "ExecuteTime": {
     "end_time": "2022-03-14T18:28:09.171292Z",
     "start_time": "2022-03-14T18:28:08.841410Z"
    }
   },
   "outputs": [
    {
     "name": "stdout",
     "output_type": "stream",
     "text": [
      "Train Accuracy: 0.5321653951210323\n",
      "Valid Accuracy: 0.4652861236941851\n"
     ]
    }
   ],
   "source": [
    "# now using only the most important features as seen above\n",
    "bestFeats_acc = features['cols'].values\n",
    "\n",
    "rf_clf_accuracy.fit(train_x[bestFeats_acc], train_y)\n",
    "\n",
    "# the test/valid accuarcy\n",
    "print(\"Train Accuracy:\", rf_clf_accuracy.score(train_x[bestFeats_acc], train_y))\n",
    "print(\"Valid Accuracy:\", rf_clf_accuracy.score(test_x[bestFeats_acc], test_y))"
   ]
  },
  {
   "cell_type": "code",
   "execution_count": 14,
   "id": "aaec1b13",
   "metadata": {
    "ExecuteTime": {
     "end_time": "2022-03-14T18:28:43.962870Z",
     "start_time": "2022-03-14T18:28:09.172476Z"
    }
   },
   "outputs": [
    {
     "data": {
      "text/html": [
       "<div>\n",
       "<style scoped>\n",
       "    .dataframe tbody tr th:only-of-type {\n",
       "        vertical-align: middle;\n",
       "    }\n",
       "\n",
       "    .dataframe tbody tr th {\n",
       "        vertical-align: top;\n",
       "    }\n",
       "\n",
       "    .dataframe thead th {\n",
       "        text-align: right;\n",
       "    }\n",
       "</style>\n",
       "<table border=\"1\" class=\"dataframe\">\n",
       "  <thead>\n",
       "    <tr style=\"text-align: right;\">\n",
       "      <th></th>\n",
       "      <th>cols</th>\n",
       "      <th>pi_imp</th>\n",
       "    </tr>\n",
       "  </thead>\n",
       "  <tbody>\n",
       "    <tr>\n",
       "      <th>12</th>\n",
       "      <td>volume_2min</td>\n",
       "      <td>0.039931</td>\n",
       "    </tr>\n",
       "    <tr>\n",
       "      <th>15</th>\n",
       "      <td>ewm_vol_3600s</td>\n",
       "      <td>0.068220</td>\n",
       "    </tr>\n",
       "    <tr>\n",
       "      <th>6</th>\n",
       "      <td>ewm_vol_1500s</td>\n",
       "      <td>0.076780</td>\n",
       "    </tr>\n",
       "    <tr>\n",
       "      <th>17</th>\n",
       "      <td>ewm_vol_900s</td>\n",
       "      <td>0.077574</td>\n",
       "    </tr>\n",
       "    <tr>\n",
       "      <th>4</th>\n",
       "      <td>ewm_vol_60s</td>\n",
       "      <td>0.077592</td>\n",
       "    </tr>\n",
       "    <tr>\n",
       "      <th>16</th>\n",
       "      <td>volume_5min</td>\n",
       "      <td>0.079612</td>\n",
       "    </tr>\n",
       "    <tr>\n",
       "      <th>0</th>\n",
       "      <td>ewm_vol_120s</td>\n",
       "      <td>0.080047</td>\n",
       "    </tr>\n",
       "    <tr>\n",
       "      <th>20</th>\n",
       "      <td>flow_20min_EWMA</td>\n",
       "      <td>0.084609</td>\n",
       "    </tr>\n",
       "    <tr>\n",
       "      <th>14</th>\n",
       "      <td>flow_2min</td>\n",
       "      <td>0.085358</td>\n",
       "    </tr>\n",
       "    <tr>\n",
       "      <th>1</th>\n",
       "      <td>size_imbalance_1min</td>\n",
       "      <td>0.089892</td>\n",
       "    </tr>\n",
       "    <tr>\n",
       "      <th>10</th>\n",
       "      <td>volume_4min</td>\n",
       "      <td>0.090845</td>\n",
       "    </tr>\n",
       "    <tr>\n",
       "      <th>8</th>\n",
       "      <td>bid_ask_10min</td>\n",
       "      <td>0.092909</td>\n",
       "    </tr>\n",
       "    <tr>\n",
       "      <th>3</th>\n",
       "      <td>bid_ask_2min</td>\n",
       "      <td>0.092955</td>\n",
       "    </tr>\n",
       "    <tr>\n",
       "      <th>2</th>\n",
       "      <td>ewm_vol_1200s</td>\n",
       "      <td>0.096754</td>\n",
       "    </tr>\n",
       "    <tr>\n",
       "      <th>9</th>\n",
       "      <td>ewm_vol_1800s</td>\n",
       "      <td>0.101333</td>\n",
       "    </tr>\n",
       "    <tr>\n",
       "      <th>13</th>\n",
       "      <td>nav_discount_bid</td>\n",
       "      <td>0.105070</td>\n",
       "    </tr>\n",
       "    <tr>\n",
       "      <th>18</th>\n",
       "      <td>bid_ask_5min</td>\n",
       "      <td>0.108086</td>\n",
       "    </tr>\n",
       "    <tr>\n",
       "      <th>7</th>\n",
       "      <td>ewm_vol_240s</td>\n",
       "      <td>0.112037</td>\n",
       "    </tr>\n",
       "    <tr>\n",
       "      <th>5</th>\n",
       "      <td>flow_1min_EWMA</td>\n",
       "      <td>0.116730</td>\n",
       "    </tr>\n",
       "    <tr>\n",
       "      <th>11</th>\n",
       "      <td>size_imbalance_4min</td>\n",
       "      <td>0.126399</td>\n",
       "    </tr>\n",
       "    <tr>\n",
       "      <th>19</th>\n",
       "      <td>dollar_flow_1min</td>\n",
       "      <td>0.127252</td>\n",
       "    </tr>\n",
       "  </tbody>\n",
       "</table>\n",
       "</div>"
      ],
      "text/plain": [
       "                   cols    pi_imp\n",
       "12          volume_2min  0.039931\n",
       "15        ewm_vol_3600s  0.068220\n",
       "6         ewm_vol_1500s  0.076780\n",
       "17         ewm_vol_900s  0.077574\n",
       "4           ewm_vol_60s  0.077592\n",
       "16          volume_5min  0.079612\n",
       "0          ewm_vol_120s  0.080047\n",
       "20      flow_20min_EWMA  0.084609\n",
       "14            flow_2min  0.085358\n",
       "1   size_imbalance_1min  0.089892\n",
       "10          volume_4min  0.090845\n",
       "8         bid_ask_10min  0.092909\n",
       "3          bid_ask_2min  0.092955\n",
       "2         ewm_vol_1200s  0.096754\n",
       "9         ewm_vol_1800s  0.101333\n",
       "13     nav_discount_bid  0.105070\n",
       "18         bid_ask_5min  0.108086\n",
       "7          ewm_vol_240s  0.112037\n",
       "5        flow_1min_EWMA  0.116730\n",
       "11  size_imbalance_4min  0.126399\n",
       "19     dollar_flow_1min  0.127252"
      ]
     },
     "execution_count": 14,
     "metadata": {},
     "output_type": "execute_result"
    }
   ],
   "source": [
    "# profit importances\n",
    "# best features have lowest profit importance\n",
    "pi = randomforest_profit_importance(rf_clf_accuracy,\n",
    "                                    test_x[bestFeats_acc],\n",
    "                                    test_actRets)\n",
    "\n",
    "pi"
   ]
  },
  {
   "cell_type": "code",
   "execution_count": 15,
   "id": "7b87dd22",
   "metadata": {
    "ExecuteTime": {
     "end_time": "2022-03-14T18:34:32.578910Z",
     "start_time": "2022-03-14T18:28:43.963866Z"
    },
    "scrolled": true
   },
   "outputs": [
    {
     "name": "stdout",
     "output_type": "stream",
     "text": [
      "0.14690247572827408\n",
      "0.11857743776841227\n",
      "0.22137867629015534\n",
      "0.21012002329456508\n",
      "0.14550255455674072\n",
      "0.18087126861182987\n",
      "0.10951330711936486\n",
      "0.1404743421741469\n",
      "0.0986936949766379\n",
      "0.19951622275297\n",
      "0.22399396079501452\n",
      "0.21707455586009555\n",
      "0.19533219905549407\n",
      "0.16137090279959537\n",
      "0.15470771836398342\n",
      "0.1452239739946914\n",
      "0.14554602119475607\n",
      "0.06737706306737595\n",
      "0.09382992222692564\n",
      "0.03289965697838346\n"
     ]
    }
   ],
   "source": [
    "# try diff combinations of features from the best features we found above\n",
    "profits, feats = findBestPIComb(rf_clf_accuracy, pi, bestFeats_acc)"
   ]
  },
  {
   "cell_type": "code",
   "execution_count": 16,
   "id": "d69f4018",
   "metadata": {
    "ExecuteTime": {
     "end_time": "2022-03-14T18:34:32.593911Z",
     "start_time": "2022-03-14T18:34:32.579949Z"
    }
   },
   "outputs": [
    {
     "name": "stdout",
     "output_type": "stream",
     "text": [
      "Index(['ewm_vol_1200s', 'bid_ask_2min', 'ewm_vol_60s', 'flow_1min_EWMA',\n",
      "       'ewm_vol_1500s', 'ewm_vol_1800s', 'size_imbalance_4min',\n",
      "       'nav_discount_bid', 'ewm_vol_3600s', 'volume_5min'],\n",
      "      dtype='object')\n",
      "10\n"
     ]
    }
   ],
   "source": [
    "n = np.argmax(profits)  # index of best feature combination\n",
    "print(feats[n])\n",
    "print(len(feats[n]))"
   ]
  },
  {
   "cell_type": "code",
   "execution_count": 17,
   "id": "fd6ad5cc",
   "metadata": {
    "ExecuteTime": {
     "end_time": "2022-03-14T18:34:33.002469Z",
     "start_time": "2022-03-14T18:34:32.594907Z"
    }
   },
   "outputs": [
    {
     "name": "stdout",
     "output_type": "stream",
     "text": [
      "Train Accuracy: 0.5222755957426768\n",
      "Test Accuracy: 0.46315984099103263\n"
     ]
    },
    {
     "data": {
      "image/png": "[encoded data removed]",
      "text/plain": [
       "<Figure size 432x288 with 1 Axes>"
      ]
     },
     "metadata": {
      "needs_background": "light"
     },
     "output_type": "display_data"
    }
   ],
   "source": [
    "# final model evaluation use these best params\n",
    "bestFeats_accuracy = list(feats[n])\n",
    "rf_clf_accuracy.fit(train_x[bestFeats_accuracy], train_y)\n",
    "\n",
    "# the train/test accuarcy\n",
    "print(\"Train Accuracy:\", rf_clf_accuracy.score(train_x[bestFeats_accuracy], train_y))\n",
    "print(\"Test Accuracy:\", rf_clf_accuracy.score(test_x[bestFeats_accuracy], test_y))\n",
    "\n",
    "cumProfits_accuracy = (rf_clf_accuracy.predict(test_x[bestFeats_accuracy]) * test_actRets).cumsum()\n",
    "cumProfits_accuracy.plot();\n",
    "plt.title(\"profits (in dollars)\");"
   ]
  },
  {
   "cell_type": "markdown",
   "id": "224be29d",
   "metadata": {},
   "source": [
    "These results assume we go long 1 dollar of HYG when a positive return is predicted and short 1 dollar of HYG when a neagtive return is predicted."
   ]
  },
  {
   "cell_type": "markdown",
   "id": "943d2f32",
   "metadata": {},
   "source": [
    "## Random Forest Based on Maximizing Profit"
   ]
  },
  {
   "cell_type": "code",
   "execution_count": 18,
   "id": "3ceb99e3",
   "metadata": {
    "ExecuteTime": {
     "end_time": "2022-03-14T18:35:10.980857Z",
     "start_time": "2022-03-14T18:35:01.902925Z"
    },
    "scrolled": true
   },
   "outputs": [
    {
     "name": "stdout",
     "output_type": "stream",
     "text": [
      "Optimal Parameters\n",
      " {'n_estimators': 25, 'max_features': 'log2', 'min_samples_leaf': 600, 'max_depth': 9}\n",
      "Train Accuracy: 0.5347084863897523\n",
      "Valid Accuracy: 0.4703707127669409\n"
     ]
    }
   ],
   "source": [
    "rf_clf_profit = optunaOptimize('profit')\n",
    "\n",
    "# the test/valid accuarcy\n",
    "print(\"Train Accuracy:\", rf_clf_profit.score(train_x, train_y))\n",
    "print(\"Valid Accuracy:\", rf_clf_profit.score(test_x, test_y))"
   ]
  },
  {
   "cell_type": "code",
   "execution_count": 19,
   "id": "60bc5146",
   "metadata": {
    "ExecuteTime": {
     "end_time": "2022-03-14T18:35:11.074872Z",
     "start_time": "2022-03-14T18:35:10.981920Z"
    }
   },
   "outputs": [
    {
     "name": "stdout",
     "output_type": "stream",
     "text": [
      "num feats:  18\n"
     ]
    },
    {
     "data": {
      "image/png": "[encoded data removed]",
      "text/plain": [
       "<Figure size 792x576 with 1 Axes>"
      ]
     },
     "metadata": {
      "needs_background": "light"
     },
     "output_type": "display_data"
    }
   ],
   "source": [
    "fi = randomforest_feat_importances(rf_clf_profit, train_x)\n",
    "features = fi[(fi['feat_imp'] > 0.02)]\n",
    "print('num feats: ', features.shape[0])\n",
    "plot_fi(features);"
   ]
  },
  {
   "cell_type": "code",
   "execution_count": 20,
   "id": "57efcc47",
   "metadata": {
    "ExecuteTime": {
     "end_time": "2022-03-14T18:35:11.277711Z",
     "start_time": "2022-03-14T18:35:11.075869Z"
    }
   },
   "outputs": [
    {
     "name": "stdout",
     "output_type": "stream",
     "text": [
      "Train Accuracy: 0.5228407271357257\n",
      "Valid Accuracy: 0.4758250901358972\n"
     ]
    }
   ],
   "source": [
    "# now using only the most important features as seen above\n",
    "bestFeats_profit = features['cols'].values\n",
    "\n",
    "rf_clf_profit.fit(train_x[bestFeats_profit], train_y)\n",
    "\n",
    "# the test/valid accuarcy\n",
    "print(\"Train Accuracy:\", rf_clf_profit.score(train_x[bestFeats_profit], train_y))\n",
    "print(\"Valid Accuracy:\", rf_clf_profit.score(test_x[bestFeats_profit], test_y))"
   ]
  },
  {
   "cell_type": "code",
   "execution_count": 21,
   "id": "f2db28b2",
   "metadata": {
    "ExecuteTime": {
     "end_time": "2022-03-14T18:35:31.349332Z",
     "start_time": "2022-03-14T18:35:11.278704Z"
    }
   },
   "outputs": [
    {
     "data": {
      "text/html": [
       "<div>\n",
       "<style scoped>\n",
       "    .dataframe tbody tr th:only-of-type {\n",
       "        vertical-align: middle;\n",
       "    }\n",
       "\n",
       "    .dataframe tbody tr th {\n",
       "        vertical-align: top;\n",
       "    }\n",
       "\n",
       "    .dataframe thead th {\n",
       "        text-align: right;\n",
       "    }\n",
       "</style>\n",
       "<table border=\"1\" class=\"dataframe\">\n",
       "  <thead>\n",
       "    <tr style=\"text-align: right;\">\n",
       "      <th></th>\n",
       "      <th>cols</th>\n",
       "      <th>pi_imp</th>\n",
       "    </tr>\n",
       "  </thead>\n",
       "  <tbody>\n",
       "    <tr>\n",
       "      <th>17</th>\n",
       "      <td>dollar_flow_4min</td>\n",
       "      <td>0.129920</td>\n",
       "    </tr>\n",
       "    <tr>\n",
       "      <th>2</th>\n",
       "      <td>size_imbalance_1min</td>\n",
       "      <td>0.159922</td>\n",
       "    </tr>\n",
       "    <tr>\n",
       "      <th>8</th>\n",
       "      <td>volume_15min</td>\n",
       "      <td>0.161840</td>\n",
       "    </tr>\n",
       "    <tr>\n",
       "      <th>1</th>\n",
       "      <td>ewm_vol_1200s</td>\n",
       "      <td>0.165383</td>\n",
       "    </tr>\n",
       "    <tr>\n",
       "      <th>6</th>\n",
       "      <td>ewm_vol_60s</td>\n",
       "      <td>0.171643</td>\n",
       "    </tr>\n",
       "    <tr>\n",
       "      <th>3</th>\n",
       "      <td>size_imbalance_5min</td>\n",
       "      <td>0.176814</td>\n",
       "    </tr>\n",
       "    <tr>\n",
       "      <th>5</th>\n",
       "      <td>size_imbalance_30min</td>\n",
       "      <td>0.176849</td>\n",
       "    </tr>\n",
       "    <tr>\n",
       "      <th>11</th>\n",
       "      <td>ewm_vol_120s</td>\n",
       "      <td>0.177677</td>\n",
       "    </tr>\n",
       "    <tr>\n",
       "      <th>10</th>\n",
       "      <td>ewm_vol_1800s</td>\n",
       "      <td>0.190322</td>\n",
       "    </tr>\n",
       "    <tr>\n",
       "      <th>15</th>\n",
       "      <td>size_imbalance_2min</td>\n",
       "      <td>0.191371</td>\n",
       "    </tr>\n",
       "    <tr>\n",
       "      <th>14</th>\n",
       "      <td>ewm_vol_2700s</td>\n",
       "      <td>0.192969</td>\n",
       "    </tr>\n",
       "    <tr>\n",
       "      <th>12</th>\n",
       "      <td>bid_ask_2min</td>\n",
       "      <td>0.197161</td>\n",
       "    </tr>\n",
       "    <tr>\n",
       "      <th>7</th>\n",
       "      <td>volume_4min</td>\n",
       "      <td>0.197720</td>\n",
       "    </tr>\n",
       "    <tr>\n",
       "      <th>13</th>\n",
       "      <td>bid_ask_30min</td>\n",
       "      <td>0.198103</td>\n",
       "    </tr>\n",
       "    <tr>\n",
       "      <th>4</th>\n",
       "      <td>ewm_vol_900s</td>\n",
       "      <td>0.216513</td>\n",
       "    </tr>\n",
       "    <tr>\n",
       "      <th>0</th>\n",
       "      <td>ewm_vol_300s</td>\n",
       "      <td>0.222852</td>\n",
       "    </tr>\n",
       "    <tr>\n",
       "      <th>9</th>\n",
       "      <td>size_imbalance_4min</td>\n",
       "      <td>0.234624</td>\n",
       "    </tr>\n",
       "    <tr>\n",
       "      <th>16</th>\n",
       "      <td>bid_ask_5min</td>\n",
       "      <td>0.244987</td>\n",
       "    </tr>\n",
       "  </tbody>\n",
       "</table>\n",
       "</div>"
      ],
      "text/plain": [
       "                    cols    pi_imp\n",
       "17      dollar_flow_4min  0.129920\n",
       "2    size_imbalance_1min  0.159922\n",
       "8           volume_15min  0.161840\n",
       "1          ewm_vol_1200s  0.165383\n",
       "6            ewm_vol_60s  0.171643\n",
       "3    size_imbalance_5min  0.176814\n",
       "5   size_imbalance_30min  0.176849\n",
       "11          ewm_vol_120s  0.177677\n",
       "10         ewm_vol_1800s  0.190322\n",
       "15   size_imbalance_2min  0.191371\n",
       "14         ewm_vol_2700s  0.192969\n",
       "12          bid_ask_2min  0.197161\n",
       "7            volume_4min  0.197720\n",
       "13         bid_ask_30min  0.198103\n",
       "4           ewm_vol_900s  0.216513\n",
       "0           ewm_vol_300s  0.222852\n",
       "9    size_imbalance_4min  0.234624\n",
       "16          bid_ask_5min  0.244987"
      ]
     },
     "execution_count": 21,
     "metadata": {},
     "output_type": "execute_result"
    }
   ],
   "source": [
    "# profit importances\n",
    "# best features have lowest profit importance\n",
    "pi = randomforest_profit_importance(rf_clf_profit,\n",
    "                                    test_x[bestFeats_profit],\n",
    "                                    test_actRets)\n",
    "\n",
    "pi"
   ]
  },
  {
   "cell_type": "code",
   "execution_count": 22,
   "id": "ee563878",
   "metadata": {
    "ExecuteTime": {
     "end_time": "2022-03-14T18:38:22.014622Z",
     "start_time": "2022-03-14T18:35:31.349980Z"
    },
    "scrolled": true
   },
   "outputs": [
    {
     "name": "stdout",
     "output_type": "stream",
     "text": [
      "0.22751886781479247\n",
      "0.09950248380709961\n",
      "0.1366613031128715\n",
      "0.16422444005617676\n",
      "0.11739090912255853\n",
      "0.20048817507275726\n",
      "-0.029666411099358123\n",
      "0.16843629099649\n",
      "0.2016583255162296\n",
      "0.1970730199643978\n",
      "0.2423486524425308\n",
      "0.12879442088497006\n",
      "0.31252009201824954\n",
      "0.17954263265476988\n",
      "0.26205169841323805\n",
      "0.25747553333737916\n",
      "0.03774545764934239\n"
     ]
    }
   ],
   "source": [
    "# try diff combinations of features from the best features we found above\n",
    "profits, feats = findBestPIComb(rf_clf_profit, pi, bestFeats_profit)"
   ]
  },
  {
   "cell_type": "code",
   "execution_count": 23,
   "id": "24c8eab0",
   "metadata": {
    "ExecuteTime": {
     "end_time": "2022-03-14T18:38:22.030020Z",
     "start_time": "2022-03-14T18:38:22.015620Z"
    }
   },
   "outputs": [
    {
     "name": "stdout",
     "output_type": "stream",
     "text": [
      "Index(['ewm_vol_1200s', 'size_imbalance_1min', 'ewm_vol_60s', 'ewm_vol_120s',\n",
      "       'dollar_flow_4min'],\n",
      "      dtype='object')\n",
      "5\n"
     ]
    }
   ],
   "source": [
    "n = np.argmax(profits)  # index of best feature combination\n",
    "print(feats[n])\n",
    "print(len(feats[n]))"
   ]
  },
  {
   "cell_type": "code",
   "execution_count": 24,
   "id": "e514ce45",
   "metadata": {
    "ExecuteTime": {
     "end_time": "2022-03-14T18:38:22.265163Z",
     "start_time": "2022-03-14T18:38:22.031017Z"
    }
   },
   "outputs": [
    {
     "name": "stdout",
     "output_type": "stream",
     "text": [
      "Train Accuracy: 0.5098427050956014\n",
      "Test Accuracy: 0.4769344550244985\n"
     ]
    },
    {
     "data": {
      "image/png": "[encoded data removed]",
      "text/plain": [
       "<Figure size 432x288 with 1 Axes>"
      ]
     },
     "metadata": {
      "needs_background": "light"
     },
     "output_type": "display_data"
    }
   ],
   "source": [
    "# final model evaluation use these best params\n",
    "bestFeats_profit = list(feats[n])\n",
    "rf_clf_profit.fit(train_x[bestFeats_profit], train_y)\n",
    "\n",
    "# the train/test accuarcy\n",
    "print(\"Train Accuracy:\", rf_clf_profit.score(train_x[bestFeats_profit], train_y))\n",
    "print(\"Test Accuracy:\", rf_clf_profit.score(test_x[bestFeats_profit], test_y))\n",
    "\n",
    "cumProfits_profit = (rf_clf_profit.predict(test_x[bestFeats_profit]) * test_actRets).cumsum()\n",
    "cumProfits_profit.plot();\n",
    "plt.title(\"profits (in dollars)\");"
   ]
  },
  {
   "cell_type": "markdown",
   "id": "e1c4c2cf",
   "metadata": {},
   "source": [
    "These results assume we go long 1 dollar of HYG when a positive return is predicted and short 1 dollar of HYG when a neagtive return is predicted."
   ]
  },
  {
   "cell_type": "markdown",
   "id": "ea7d5580",
   "metadata": {},
   "source": [
    "## Results Summary"
   ]
  },
  {
   "cell_type": "markdown",
   "id": "d7fb3035",
   "metadata": {},
   "source": [
    "The final results suggest maximizing profit is better than maximizing prediction accuracy. The optimal features suggested by random forest classifer maxmizing profit are: \n",
    " - ewm_vol_1200s\n",
    " - size_imbalance_1min\n",
    " - ewm_vol_60s\n",
    " - ewm_vol_120s\n",
    " - dollar_flow_4min"
   ]
  },
  {
   "cell_type": "markdown",
   "id": "9d189b71",
   "metadata": {},
   "source": [
    "# Visualize Trees"
   ]
  },
  {
   "cell_type": "code",
   "execution_count": 16,
   "id": "f152e8f4",
   "metadata": {
    "ExecuteTime": {
     "end_time": "2022-03-15T00:03:40.010839Z",
     "start_time": "2022-03-15T00:03:40.003862Z"
    },
    "scrolled": true
   },
   "outputs": [],
   "source": [
    "import graphviz  # run to install package: conda install python-graphviz\n",
    "from sklearn import tree\n",
    "from IPython.display import Image"
   ]
  },
  {
   "cell_type": "code",
   "execution_count": 13,
   "id": "04f5b5b2",
   "metadata": {
    "ExecuteTime": {
     "end_time": "2022-03-15T00:02:14.380005Z",
     "start_time": "2022-03-15T00:02:14.269375Z"
    }
   },
   "outputs": [
    {
     "data": {
      "text/plain": [
       "RandomForestClassifier(max_depth=9, max_features='log2', min_samples_leaf=600,\n",
       "                       n_estimators=25)"
      ]
     },
     "execution_count": 13,
     "metadata": {},
     "output_type": "execute_result"
    }
   ],
   "source": [
    "# the best tree we found\n",
    "rf_clf = RandomForestClassifier(**{'n_estimators': 25, 'max_features': 'log2', 'min_samples_leaf': 600, 'max_depth': 9})\n",
    "rf_clf.fit(train_x[['ewm_vol_1200s', 'size_imbalance_1min', 'ewm_vol_60s', 'ewm_vol_120s','dollar_flow_4min']],\n",
    "           train_y)"
   ]
  },
  {
   "cell_type": "code",
   "execution_count": 24,
   "id": "6b556da1",
   "metadata": {
    "ExecuteTime": {
     "end_time": "2022-03-15T00:13:20.380980Z",
     "start_time": "2022-03-15T00:13:19.137476Z"
    },
    "scrolled": true
   },
   "outputs": [],
   "source": [
    "for i in range(25):\n",
    "    T = rf_clf.estimators_[i]\n",
    "    #visualizing some trees\n",
    "    dot_data = tree.export_graphviz(T,\n",
    "                                    feature_names = ['ewm_vol_1200s', 'size_imbalance_1min', 'ewm_vol_60s', 'ewm_vol_120s','dollar_flow_4min'],\n",
    "                                    class_names = ['neg_ret (-1)', 'zero_ret (0)', 'pos_ret (1)'])\n",
    "    graph = graphviz.Source(dot_data)\n",
    "    graph.render(f'tree_pdfs/tree{i}')"
   ]
  }
 ],
 "metadata": {
  "kernelspec": {
   "display_name": "Python 3 (ipykernel)",
   "language": "python",
   "name": "python3"
  },
  "language_info": {
   "codemirror_mode": {
    "name": "ipython",
    "version": 3
   },
   "file_extension": ".py",
   "mimetype": "text/x-python",
   "name": "python",
   "nbconvert_exporter": "python",
   "pygments_lexer": "ipython3",
   "version": "3.9.7"
  }
 },
 "nbformat": 4,
 "nbformat_minor": 5
}
