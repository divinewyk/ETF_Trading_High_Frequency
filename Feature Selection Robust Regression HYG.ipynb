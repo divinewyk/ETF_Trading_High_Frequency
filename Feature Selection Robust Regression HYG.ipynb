{
 "cells": [
  {
   "cell_type": "code",
   "execution_count": 1,
   "id": "30003e18",
   "metadata": {
    "ExecuteTime": {
     "end_time": "2022-03-17T06:57:49.754700Z",
     "start_time": "2022-03-17T06:57:48.147038Z"
    }
   },
   "outputs": [
    {
     "name": "stderr",
     "output_type": "stream",
     "text": [
      "C:\\Users\\18049\\Anaconda3\\lib\\site-packages\\statsmodels\\tsa\\base\\tsa_model.py:7: FutureWarning: pandas.Int64Index is deprecated and will be removed from pandas in a future version. Use pandas.Index with the appropriate dtype instead.\n",
      "  from pandas import (to_datetime, Int64Index, DatetimeIndex, Period,\n",
      "C:\\Users\\18049\\Anaconda3\\lib\\site-packages\\statsmodels\\tsa\\base\\tsa_model.py:7: FutureWarning: pandas.Float64Index is deprecated and will be removed from pandas in a future version. Use pandas.Index with the appropriate dtype instead.\n",
      "  from pandas import (to_datetime, Int64Index, DatetimeIndex, Period,\n"
     ]
    }
   ],
   "source": [
    "import numpy as np\n",
    "import pandas as pd\n",
    "import warnings\n",
    "import statsmodels.api as sm\n",
    "warnings.filterwarnings('ignore')\n",
    "warnings.simplefilter(action='ignore', category=FutureWarning)\n",
    "from sklearn.model_selection import GridSearchCV\n",
    "from sklearn.linear_model import Lasso\n",
    "from sklearn.preprocessing import StandardScaler, MinMaxScaler, RobustScaler\n",
    "import statsmodels.api as sm\n",
    "from statsmodels.robust import norms\n",
    "from sklearn.metrics import mean_squared_error"
   ]
  },
  {
   "cell_type": "code",
   "execution_count": 2,
   "id": "bc2ffa5a",
   "metadata": {
    "ExecuteTime": {
     "end_time": "2022-03-17T06:57:49.766006Z",
     "start_time": "2022-03-17T06:57:49.756746Z"
    }
   },
   "outputs": [],
   "source": [
    "def get_metrics(file):\n",
    "    df = pd.read_csv(file,parse_dates=['date'],index_col='date')\n",
    "    df.dropna(inplace=True)\n",
    "    df = df[~((df.index.hour==16) & (df.index.minute>0))]\n",
    "    return df"
   ]
  },
  {
   "cell_type": "code",
   "execution_count": 3,
   "id": "747b3018",
   "metadata": {
    "ExecuteTime": {
     "end_time": "2022-03-17T06:57:51.989277Z",
     "start_time": "2022-03-17T06:57:49.767663Z"
    }
   },
   "outputs": [],
   "source": [
    "data = get_metrics('HYG_metrics.csv')"
   ]
  },
  {
   "cell_type": "code",
   "execution_count": 4,
   "id": "5242f2da",
   "metadata": {
    "ExecuteTime": {
     "end_time": "2022-03-17T06:57:51.997716Z",
     "start_time": "2022-03-17T06:57:51.989774Z"
    }
   },
   "outputs": [],
   "source": [
    "def filter_cols(df,col_strings):\n",
    "    col_list = []\n",
    "    for col in col_strings:\n",
    "        col_list+=list(filter(lambda x: col in x,df.columns))\n",
    "    return col_list"
   ]
  },
  {
   "cell_type": "code",
   "execution_count": 5,
   "id": "7d03c211",
   "metadata": {
    "ExecuteTime": {
     "end_time": "2022-03-17T06:57:52.013899Z",
     "start_time": "2022-03-17T06:57:51.997716Z"
    }
   },
   "outputs": [],
   "source": [
    "def split_data(df,end_train,start_test):\n",
    "    y = filter_cols(df,['rtn'])\n",
    "    drop_cols = filter_cols(df,y+['iNAV','PRICE','NBB','NBO','NBOqty', 'NBBqty'])\n",
    "    features = df.drop(columns=drop_cols).columns\n",
    "    X_train = df[features].loc[:end_train]\n",
    "    X_test = df[features].loc[start_test:]\n",
    "    y_train = df[y].loc[:end_train]\n",
    "    y_test = df[y].loc[start_test:]\n",
    "    \n",
    "    return X_train, X_test, y_train, y_test"
   ]
  },
  {
   "cell_type": "code",
   "execution_count": 6,
   "id": "22134d21",
   "metadata": {
    "ExecuteTime": {
     "end_time": "2022-03-17T06:57:52.023960Z",
     "start_time": "2022-03-17T06:57:52.015842Z"
    }
   },
   "outputs": [],
   "source": [
    "def metric_cats(df):\n",
    "    flow_metrics = filter_cols(df,['flow','imbalance'])\n",
    "    liquidity_metrics = filter_cols(df,['bid_ask','volume','cumulative'])\n",
    "    nav_metrics = filter_cols(df,['nav'])\n",
    "    vol_metrics = filter_cols(df,['ewm_vol'])\n",
    "    return flow_metrics, liquidity_metrics, nav_metrics, vol_metrics"
   ]
  },
  {
   "cell_type": "markdown",
   "id": "47a8179b",
   "metadata": {},
   "source": [
    "# Group together metrics of similar category and examine the categories one by one"
   ]
  },
  {
   "cell_type": "code",
   "execution_count": 7,
   "id": "62bd6c91",
   "metadata": {
    "ExecuteTime": {
     "end_time": "2022-03-17T06:57:52.033992Z",
     "start_time": "2022-03-17T06:57:52.023960Z"
    }
   },
   "outputs": [],
   "source": [
    "flow_metrics, liquidity_metrics, nav_metrics, vol_metrics = metric_cats(data)"
   ]
  },
  {
   "cell_type": "markdown",
   "id": "e4743991",
   "metadata": {},
   "source": [
    "# Use LASSO to see which features in each metric category (liquidity, flow, volatility) may be good regressors"
   ]
  },
  {
   "cell_type": "code",
   "execution_count": 8,
   "id": "97035ddf",
   "metadata": {
    "ExecuteTime": {
     "end_time": "2022-03-17T06:57:52.050481Z",
     "start_time": "2022-03-17T06:57:52.033992Z"
    }
   },
   "outputs": [],
   "source": [
    "def multi_LASSO(alphas,metrics,x,y,skScaler):\n",
    "    lasso = Lasso(fit_intercept=True)\n",
    "    sc = skScaler\n",
    "    features = sc.fit_transform(x[metrics])\n",
    "    features = pd.DataFrame(data = features, columns = x[metrics].columns, index=x[metrics].index)\n",
    "    scale = sc.scale_\n",
    "    \n",
    "    coeffs = np.zeros(len(metrics))\n",
    "    alphas = {'alpha':alphas}\n",
    "    \n",
    "    results = pd.DataFrame(index=metrics)\n",
    "    \n",
    "    while np.sum(coeffs)==0:\n",
    "        lasso_reg = GridSearchCV(lasso,alphas,scoring='neg_mean_squared_error',cv=5,n_jobs=-1)\n",
    "        lasso_reg.fit(features,y)\n",
    "        alpha_opt = lasso_reg.best_params_\n",
    "        mse_opt = lasso_reg.best_score_\n",
    "        coeffs = lasso_reg.best_estimator_.coef_\n",
    "        alphas['alpha']/=10\n",
    "        \n",
    "    results['coeffs'] = coeffs\n",
    "    results['scale'] = scale\n",
    "    results['importance'] = np.abs(coeffs)\n",
    "    results = results[results['coeffs']!=0]\n",
    "    results.sort_values('importance',ascending=False,inplace=True)\n",
    "    \n",
    "    return alpha_opt['alpha'],np.sqrt(-mse_opt), results"
   ]
  },
  {
   "cell_type": "code",
   "execution_count": 9,
   "id": "e0596cff",
   "metadata": {
    "ExecuteTime": {
     "end_time": "2022-03-17T06:57:52.094016Z",
     "start_time": "2022-03-17T06:57:52.053669Z"
    }
   },
   "outputs": [],
   "source": [
    "x_train, x_test, y_train, y_test = split_data(data,'2020-06','2020-07')"
   ]
  },
  {
   "cell_type": "markdown",
   "id": "8ada354e",
   "metadata": {},
   "source": [
    "# LASSO on all flow variables"
   ]
  },
  {
   "cell_type": "code",
   "execution_count": 10,
   "id": "a56c2a63",
   "metadata": {
    "ExecuteTime": {
     "end_time": "2022-03-17T06:57:57.756056Z",
     "start_time": "2022-03-17T06:57:52.094016Z"
    }
   },
   "outputs": [
    {
     "name": "stdout",
     "output_type": "stream",
     "text": [
      "Lambda = 1e-05\n",
      "RMSE = 0.0015723623085693013\n"
     ]
    },
    {
     "data": {
      "text/html": [
       "<div>\n",
       "<style scoped>\n",
       "    .dataframe tbody tr th:only-of-type {\n",
       "        vertical-align: middle;\n",
       "    }\n",
       "\n",
       "    .dataframe tbody tr th {\n",
       "        vertical-align: top;\n",
       "    }\n",
       "\n",
       "    .dataframe thead th {\n",
       "        text-align: right;\n",
       "    }\n",
       "</style>\n",
       "<table border=\"1\" class=\"dataframe\">\n",
       "  <thead>\n",
       "    <tr style=\"text-align: right;\">\n",
       "      <th></th>\n",
       "      <th>coeffs</th>\n",
       "      <th>scale</th>\n",
       "      <th>importance</th>\n",
       "    </tr>\n",
       "  </thead>\n",
       "  <tbody>\n",
       "    <tr>\n",
       "      <th>flow_5min_EWMA</th>\n",
       "      <td>-6.276640e-05</td>\n",
       "      <td>1.184565e+05</td>\n",
       "      <td>6.276640e-05</td>\n",
       "    </tr>\n",
       "    <tr>\n",
       "      <th>flow_15min</th>\n",
       "      <td>3.493509e-05</td>\n",
       "      <td>4.007797e+05</td>\n",
       "      <td>3.493509e-05</td>\n",
       "    </tr>\n",
       "    <tr>\n",
       "      <th>flow_2min</th>\n",
       "      <td>-3.042662e-05</td>\n",
       "      <td>1.444159e+05</td>\n",
       "      <td>3.042662e-05</td>\n",
       "    </tr>\n",
       "    <tr>\n",
       "      <th>order_imbalance_1min</th>\n",
       "      <td>-2.278753e-05</td>\n",
       "      <td>1.538800e+04</td>\n",
       "      <td>2.278753e-05</td>\n",
       "    </tr>\n",
       "    <tr>\n",
       "      <th>flow_5min</th>\n",
       "      <td>-2.124823e-05</td>\n",
       "      <td>2.275243e+05</td>\n",
       "      <td>2.124823e-05</td>\n",
       "    </tr>\n",
       "    <tr>\n",
       "      <th>flow_1min_EWMA</th>\n",
       "      <td>1.182483e-05</td>\n",
       "      <td>5.788510e+04</td>\n",
       "      <td>1.182483e-05</td>\n",
       "    </tr>\n",
       "    <tr>\n",
       "      <th>dollar_flow_15min</th>\n",
       "      <td>9.007938e-06</td>\n",
       "      <td>3.290659e+07</td>\n",
       "      <td>9.007938e-06</td>\n",
       "    </tr>\n",
       "    <tr>\n",
       "      <th>flow_45min_EWMA</th>\n",
       "      <td>3.146832e-06</td>\n",
       "      <td>3.513322e+05</td>\n",
       "      <td>3.146832e-06</td>\n",
       "    </tr>\n",
       "    <tr>\n",
       "      <th>flow_60min_EWMA</th>\n",
       "      <td>8.510093e-07</td>\n",
       "      <td>4.155542e+05</td>\n",
       "      <td>8.510093e-07</td>\n",
       "    </tr>\n",
       "    <tr>\n",
       "      <th>flow_4min_EWMA</th>\n",
       "      <td>-2.153062e-07</td>\n",
       "      <td>1.085844e+05</td>\n",
       "      <td>2.153062e-07</td>\n",
       "    </tr>\n",
       "  </tbody>\n",
       "</table>\n",
       "</div>"
      ],
      "text/plain": [
       "                            coeffs         scale    importance\n",
       "flow_5min_EWMA       -6.276640e-05  1.184565e+05  6.276640e-05\n",
       "flow_15min            3.493509e-05  4.007797e+05  3.493509e-05\n",
       "flow_2min            -3.042662e-05  1.444159e+05  3.042662e-05\n",
       "order_imbalance_1min -2.278753e-05  1.538800e+04  2.278753e-05\n",
       "flow_5min            -2.124823e-05  2.275243e+05  2.124823e-05\n",
       "flow_1min_EWMA        1.182483e-05  5.788510e+04  1.182483e-05\n",
       "dollar_flow_15min     9.007938e-06  3.290659e+07  9.007938e-06\n",
       "flow_45min_EWMA       3.146832e-06  3.513322e+05  3.146832e-06\n",
       "flow_60min_EWMA       8.510093e-07  4.155542e+05  8.510093e-07\n",
       "flow_4min_EWMA       -2.153062e-07  1.085844e+05  2.153062e-07"
      ]
     },
     "execution_count": 10,
     "metadata": {},
     "output_type": "execute_result"
    }
   ],
   "source": [
    "alphas = np.linspace(0.01,1,10)\n",
    "alpha, rmse, coeffs = multi_LASSO(alphas, flow_metrics, x_train, y_train['fwd_rtn_5min'], StandardScaler())\n",
    "print('Lambda = {}'.format(alpha))\n",
    "print('RMSE = {}'.format(rmse))\n",
    "coeffs"
   ]
  },
  {
   "cell_type": "markdown",
   "id": "7ef2b9e4",
   "metadata": {},
   "source": [
    "# LASSO on all liquidity variables"
   ]
  },
  {
   "cell_type": "code",
   "execution_count": 11,
   "id": "a4f76447",
   "metadata": {
    "ExecuteTime": {
     "end_time": "2022-03-17T06:57:59.617319Z",
     "start_time": "2022-03-17T06:57:57.759266Z"
    },
    "scrolled": true
   },
   "outputs": [
    {
     "name": "stdout",
     "output_type": "stream",
     "text": [
      "Lambda = 1.0000000000000002e-06\n",
      "RMSE = 0.0015757988010931913\n"
     ]
    },
    {
     "data": {
      "text/html": [
       "<div>\n",
       "<style scoped>\n",
       "    .dataframe tbody tr th:only-of-type {\n",
       "        vertical-align: middle;\n",
       "    }\n",
       "\n",
       "    .dataframe tbody tr th {\n",
       "        vertical-align: top;\n",
       "    }\n",
       "\n",
       "    .dataframe thead th {\n",
       "        text-align: right;\n",
       "    }\n",
       "</style>\n",
       "<table border=\"1\" class=\"dataframe\">\n",
       "  <thead>\n",
       "    <tr style=\"text-align: right;\">\n",
       "      <th></th>\n",
       "      <th>coeffs</th>\n",
       "      <th>scale</th>\n",
       "      <th>importance</th>\n",
       "    </tr>\n",
       "  </thead>\n",
       "  <tbody>\n",
       "    <tr>\n",
       "      <th>bid_ask_price_30min</th>\n",
       "      <td>-0.000271</td>\n",
       "      <td>2.583514e-05</td>\n",
       "      <td>0.000271</td>\n",
       "    </tr>\n",
       "    <tr>\n",
       "      <th>volume_4min</th>\n",
       "      <td>0.000235</td>\n",
       "      <td>7.240629e+11</td>\n",
       "      <td>0.000235</td>\n",
       "    </tr>\n",
       "    <tr>\n",
       "      <th>bid_ask_price_15min</th>\n",
       "      <td>0.000201</td>\n",
       "      <td>2.719063e-05</td>\n",
       "      <td>0.000201</td>\n",
       "    </tr>\n",
       "    <tr>\n",
       "      <th>bid_ask_price_10min</th>\n",
       "      <td>0.000194</td>\n",
       "      <td>2.724129e-05</td>\n",
       "      <td>0.000194</td>\n",
       "    </tr>\n",
       "    <tr>\n",
       "      <th>bid_ask_price_2min</th>\n",
       "      <td>-0.000135</td>\n",
       "      <td>2.500493e-05</td>\n",
       "      <td>0.000135</td>\n",
       "    </tr>\n",
       "    <tr>\n",
       "      <th>cumulative_trade_count</th>\n",
       "      <td>-0.000104</td>\n",
       "      <td>1.748446e+06</td>\n",
       "      <td>0.000104</td>\n",
       "    </tr>\n",
       "    <tr>\n",
       "      <th>bid_ask_price_60min</th>\n",
       "      <td>0.000101</td>\n",
       "      <td>2.562191e-05</td>\n",
       "      <td>0.000101</td>\n",
       "    </tr>\n",
       "    <tr>\n",
       "      <th>volume_10min</th>\n",
       "      <td>-0.000093</td>\n",
       "      <td>1.593594e+12</td>\n",
       "      <td>0.000093</td>\n",
       "    </tr>\n",
       "    <tr>\n",
       "      <th>volume_2min</th>\n",
       "      <td>-0.000086</td>\n",
       "      <td>4.182415e+11</td>\n",
       "      <td>0.000086</td>\n",
       "    </tr>\n",
       "    <tr>\n",
       "      <th>cumulative_volume</th>\n",
       "      <td>0.000077</td>\n",
       "      <td>9.130082e+08</td>\n",
       "      <td>0.000077</td>\n",
       "    </tr>\n",
       "    <tr>\n",
       "      <th>volume_1min</th>\n",
       "      <td>-0.000069</td>\n",
       "      <td>2.357119e+11</td>\n",
       "      <td>0.000069</td>\n",
       "    </tr>\n",
       "    <tr>\n",
       "      <th>bid_ask_1min</th>\n",
       "      <td>0.000022</td>\n",
       "      <td>2.089370e-03</td>\n",
       "      <td>0.000022</td>\n",
       "    </tr>\n",
       "    <tr>\n",
       "      <th>volume_5min</th>\n",
       "      <td>0.000019</td>\n",
       "      <td>8.893301e+11</td>\n",
       "      <td>0.000019</td>\n",
       "    </tr>\n",
       "    <tr>\n",
       "      <th>volume_30min</th>\n",
       "      <td>-0.000011</td>\n",
       "      <td>4.120802e+12</td>\n",
       "      <td>0.000011</td>\n",
       "    </tr>\n",
       "    <tr>\n",
       "      <th>bid_ask_5min</th>\n",
       "      <td>-0.000010</td>\n",
       "      <td>2.063602e-03</td>\n",
       "      <td>0.000010</td>\n",
       "    </tr>\n",
       "    <tr>\n",
       "      <th>volume_15min</th>\n",
       "      <td>0.000009</td>\n",
       "      <td>2.252294e+12</td>\n",
       "      <td>0.000009</td>\n",
       "    </tr>\n",
       "    <tr>\n",
       "      <th>cumulative_volume</th>\n",
       "      <td>0.000003</td>\n",
       "      <td>9.130082e+08</td>\n",
       "      <td>0.000003</td>\n",
       "    </tr>\n",
       "  </tbody>\n",
       "</table>\n",
       "</div>"
      ],
      "text/plain": [
       "                          coeffs         scale  importance\n",
       "bid_ask_price_30min    -0.000271  2.583514e-05    0.000271\n",
       "volume_4min             0.000235  7.240629e+11    0.000235\n",
       "bid_ask_price_15min     0.000201  2.719063e-05    0.000201\n",
       "bid_ask_price_10min     0.000194  2.724129e-05    0.000194\n",
       "bid_ask_price_2min     -0.000135  2.500493e-05    0.000135\n",
       "cumulative_trade_count -0.000104  1.748446e+06    0.000104\n",
       "bid_ask_price_60min     0.000101  2.562191e-05    0.000101\n",
       "volume_10min           -0.000093  1.593594e+12    0.000093\n",
       "volume_2min            -0.000086  4.182415e+11    0.000086\n",
       "cumulative_volume       0.000077  9.130082e+08    0.000077\n",
       "volume_1min            -0.000069  2.357119e+11    0.000069\n",
       "bid_ask_1min            0.000022  2.089370e-03    0.000022\n",
       "volume_5min             0.000019  8.893301e+11    0.000019\n",
       "volume_30min           -0.000011  4.120802e+12    0.000011\n",
       "bid_ask_5min           -0.000010  2.063602e-03    0.000010\n",
       "volume_15min            0.000009  2.252294e+12    0.000009\n",
       "cumulative_volume       0.000003  9.130082e+08    0.000003"
      ]
     },
     "execution_count": 11,
     "metadata": {},
     "output_type": "execute_result"
    }
   ],
   "source": [
    "alpha, rmse, coeffs = multi_LASSO(alphas, liquidity_metrics, x_train, y_train['fwd_rtn_5min'], StandardScaler())\n",
    "print('Lambda = {}'.format(alpha))\n",
    "print('RMSE = {}'.format(rmse))\n",
    "coeffs"
   ]
  },
  {
   "cell_type": "markdown",
   "id": "a369b47e",
   "metadata": {},
   "source": [
    "# LASSO on vol variables"
   ]
  },
  {
   "cell_type": "code",
   "execution_count": 12,
   "id": "d111a11b",
   "metadata": {
    "ExecuteTime": {
     "end_time": "2022-03-17T06:58:00.206631Z",
     "start_time": "2022-03-17T06:57:59.621464Z"
    }
   },
   "outputs": [
    {
     "name": "stdout",
     "output_type": "stream",
     "text": [
      "Lambda = 1.0000000000000002e-07\n",
      "RMSE = 0.0015846873815548983\n"
     ]
    },
    {
     "data": {
      "text/html": [
       "<div>\n",
       "<style scoped>\n",
       "    .dataframe tbody tr th:only-of-type {\n",
       "        vertical-align: middle;\n",
       "    }\n",
       "\n",
       "    .dataframe tbody tr th {\n",
       "        vertical-align: top;\n",
       "    }\n",
       "\n",
       "    .dataframe thead th {\n",
       "        text-align: right;\n",
       "    }\n",
       "</style>\n",
       "<table border=\"1\" class=\"dataframe\">\n",
       "  <thead>\n",
       "    <tr style=\"text-align: right;\">\n",
       "      <th></th>\n",
       "      <th>coeffs</th>\n",
       "      <th>scale</th>\n",
       "      <th>importance</th>\n",
       "    </tr>\n",
       "  </thead>\n",
       "  <tbody>\n",
       "    <tr>\n",
       "      <th>ewm_vol_60s</th>\n",
       "      <td>0.000425</td>\n",
       "      <td>0.267865</td>\n",
       "      <td>0.000425</td>\n",
       "    </tr>\n",
       "    <tr>\n",
       "      <th>ewm_vol_120s</th>\n",
       "      <td>-0.000248</td>\n",
       "      <td>0.218746</td>\n",
       "      <td>0.000248</td>\n",
       "    </tr>\n",
       "    <tr>\n",
       "      <th>ewm_vol_1500s</th>\n",
       "      <td>0.000209</td>\n",
       "      <td>0.124887</td>\n",
       "      <td>0.000209</td>\n",
       "    </tr>\n",
       "    <tr>\n",
       "      <th>ewm_vol_3600s</th>\n",
       "      <td>-0.000195</td>\n",
       "      <td>0.110949</td>\n",
       "      <td>0.000195</td>\n",
       "    </tr>\n",
       "    <tr>\n",
       "      <th>ewm_vol_240s</th>\n",
       "      <td>0.000132</td>\n",
       "      <td>0.169128</td>\n",
       "      <td>0.000132</td>\n",
       "    </tr>\n",
       "    <tr>\n",
       "      <th>ewm_vol_2700s</th>\n",
       "      <td>-0.000091</td>\n",
       "      <td>0.115731</td>\n",
       "      <td>0.000091</td>\n",
       "    </tr>\n",
       "    <tr>\n",
       "      <th>ewm_vol_1800s</th>\n",
       "      <td>0.000085</td>\n",
       "      <td>0.121548</td>\n",
       "      <td>0.000085</td>\n",
       "    </tr>\n",
       "    <tr>\n",
       "      <th>ewm_vol_1200s</th>\n",
       "      <td>-0.000081</td>\n",
       "      <td>0.129672</td>\n",
       "      <td>0.000081</td>\n",
       "    </tr>\n",
       "    <tr>\n",
       "      <th>ewm_vol_900s</th>\n",
       "      <td>-0.000061</td>\n",
       "      <td>0.133550</td>\n",
       "      <td>0.000061</td>\n",
       "    </tr>\n",
       "    <tr>\n",
       "      <th>ewm_vol_300s</th>\n",
       "      <td>0.000026</td>\n",
       "      <td>0.161951</td>\n",
       "      <td>0.000026</td>\n",
       "    </tr>\n",
       "  </tbody>\n",
       "</table>\n",
       "</div>"
      ],
      "text/plain": [
       "                 coeffs     scale  importance\n",
       "ewm_vol_60s    0.000425  0.267865    0.000425\n",
       "ewm_vol_120s  -0.000248  0.218746    0.000248\n",
       "ewm_vol_1500s  0.000209  0.124887    0.000209\n",
       "ewm_vol_3600s -0.000195  0.110949    0.000195\n",
       "ewm_vol_240s   0.000132  0.169128    0.000132\n",
       "ewm_vol_2700s -0.000091  0.115731    0.000091\n",
       "ewm_vol_1800s  0.000085  0.121548    0.000085\n",
       "ewm_vol_1200s -0.000081  0.129672    0.000081\n",
       "ewm_vol_900s  -0.000061  0.133550    0.000061\n",
       "ewm_vol_300s   0.000026  0.161951    0.000026"
      ]
     },
     "execution_count": 12,
     "metadata": {},
     "output_type": "execute_result"
    }
   ],
   "source": [
    "alpha, rmse, coeffs = multi_LASSO(alphas, vol_metrics, x_train, y_train['fwd_rtn_5min'], StandardScaler())\n",
    "print('Lambda = {}'.format(alpha))\n",
    "print('RMSE = {}'.format(rmse))\n",
    "coeffs"
   ]
  },
  {
   "cell_type": "markdown",
   "id": "a407f510",
   "metadata": {},
   "source": [
    "# LASSO on NAV"
   ]
  },
  {
   "cell_type": "code",
   "execution_count": 13,
   "id": "16fcd76f",
   "metadata": {
    "ExecuteTime": {
     "end_time": "2022-03-17T06:58:00.629597Z",
     "start_time": "2022-03-17T06:58:00.209499Z"
    }
   },
   "outputs": [
    {
     "name": "stdout",
     "output_type": "stream",
     "text": [
      "Lambda = 1.0000000000000003e-10\n",
      "RMSE = 0.001574350254216579\n"
     ]
    },
    {
     "data": {
      "text/html": [
       "<div>\n",
       "<style scoped>\n",
       "    .dataframe tbody tr th:only-of-type {\n",
       "        vertical-align: middle;\n",
       "    }\n",
       "\n",
       "    .dataframe tbody tr th {\n",
       "        vertical-align: top;\n",
       "    }\n",
       "\n",
       "    .dataframe thead th {\n",
       "        text-align: right;\n",
       "    }\n",
       "</style>\n",
       "<table border=\"1\" class=\"dataframe\">\n",
       "  <thead>\n",
       "    <tr style=\"text-align: right;\">\n",
       "      <th></th>\n",
       "      <th>coeffs</th>\n",
       "      <th>scale</th>\n",
       "      <th>importance</th>\n",
       "    </tr>\n",
       "  </thead>\n",
       "  <tbody>\n",
       "    <tr>\n",
       "      <th>nav_discount_bid</th>\n",
       "      <td>-0.000331</td>\n",
       "      <td>0.008986</td>\n",
       "      <td>0.000331</td>\n",
       "    </tr>\n",
       "    <tr>\n",
       "      <th>nav_discount_ask</th>\n",
       "      <td>0.000251</td>\n",
       "      <td>0.008991</td>\n",
       "      <td>0.000251</td>\n",
       "    </tr>\n",
       "  </tbody>\n",
       "</table>\n",
       "</div>"
      ],
      "text/plain": [
       "                    coeffs     scale  importance\n",
       "nav_discount_bid -0.000331  0.008986    0.000331\n",
       "nav_discount_ask  0.000251  0.008991    0.000251"
      ]
     },
     "execution_count": 13,
     "metadata": {},
     "output_type": "execute_result"
    }
   ],
   "source": [
    "alpha, rmse, coeffs = multi_LASSO(alphas, nav_metrics, x_train, y_train['fwd_rtn_5min'], StandardScaler())\n",
    "print('Lambda = {}'.format(alpha))\n",
    "print('RMSE = {}'.format(rmse))\n",
    "coeffs"
   ]
  },
  {
   "cell_type": "markdown",
   "id": "bf4a31e3",
   "metadata": {},
   "source": [
    "# LASSO on everything"
   ]
  },
  {
   "cell_type": "code",
   "execution_count": 14,
   "id": "1ed5fb08",
   "metadata": {
    "ExecuteTime": {
     "end_time": "2022-03-17T06:58:13.324267Z",
     "start_time": "2022-03-17T06:58:00.632475Z"
    }
   },
   "outputs": [
    {
     "name": "stdout",
     "output_type": "stream",
     "text": [
      "Lambda = 1.0000000000000003e-09\n",
      "RMSE = 0.0016259509355722407\n"
     ]
    },
    {
     "data": {
      "text/html": [
       "<div>\n",
       "<style scoped>\n",
       "    .dataframe tbody tr th:only-of-type {\n",
       "        vertical-align: middle;\n",
       "    }\n",
       "\n",
       "    .dataframe tbody tr th {\n",
       "        vertical-align: top;\n",
       "    }\n",
       "\n",
       "    .dataframe thead th {\n",
       "        text-align: right;\n",
       "    }\n",
       "</style>\n",
       "<table border=\"1\" class=\"dataframe\">\n",
       "  <thead>\n",
       "    <tr style=\"text-align: right;\">\n",
       "      <th></th>\n",
       "      <th>coeffs</th>\n",
       "      <th>scale</th>\n",
       "      <th>importance</th>\n",
       "    </tr>\n",
       "  </thead>\n",
       "  <tbody>\n",
       "    <tr>\n",
       "      <th>flow_20min</th>\n",
       "      <td>-0.000958</td>\n",
       "      <td>4.626030e+05</td>\n",
       "      <td>0.000958</td>\n",
       "    </tr>\n",
       "    <tr>\n",
       "      <th>dollar_flow_20min</th>\n",
       "      <td>0.000908</td>\n",
       "      <td>3.797060e+07</td>\n",
       "      <td>0.000908</td>\n",
       "    </tr>\n",
       "    <tr>\n",
       "      <th>flow_15min</th>\n",
       "      <td>0.000856</td>\n",
       "      <td>4.007797e+05</td>\n",
       "      <td>0.000856</td>\n",
       "    </tr>\n",
       "    <tr>\n",
       "      <th>bid_ask_price_5min</th>\n",
       "      <td>0.000830</td>\n",
       "      <td>2.706129e-05</td>\n",
       "      <td>0.000830</td>\n",
       "    </tr>\n",
       "    <tr>\n",
       "      <th>bid_ask_5min</th>\n",
       "      <td>-0.000820</td>\n",
       "      <td>2.063602e-03</td>\n",
       "      <td>0.000820</td>\n",
       "    </tr>\n",
       "    <tr>\n",
       "      <th>...</th>\n",
       "      <td>...</td>\n",
       "      <td>...</td>\n",
       "      <td>...</td>\n",
       "    </tr>\n",
       "    <tr>\n",
       "      <th>dollar_flow_60min</th>\n",
       "      <td>-0.000008</td>\n",
       "      <td>6.547583e+07</td>\n",
       "      <td>0.000008</td>\n",
       "    </tr>\n",
       "    <tr>\n",
       "      <th>order_imbalance_5min</th>\n",
       "      <td>0.000008</td>\n",
       "      <td>1.220755e+04</td>\n",
       "      <td>0.000008</td>\n",
       "    </tr>\n",
       "    <tr>\n",
       "      <th>order_imbalance_15min</th>\n",
       "      <td>0.000006</td>\n",
       "      <td>1.100856e+04</td>\n",
       "      <td>0.000006</td>\n",
       "    </tr>\n",
       "    <tr>\n",
       "      <th>volume_5min</th>\n",
       "      <td>0.000005</td>\n",
       "      <td>8.893301e+11</td>\n",
       "      <td>0.000005</td>\n",
       "    </tr>\n",
       "    <tr>\n",
       "      <th>volume_30min</th>\n",
       "      <td>0.000004</td>\n",
       "      <td>4.120802e+12</td>\n",
       "      <td>0.000004</td>\n",
       "    </tr>\n",
       "  </tbody>\n",
       "</table>\n",
       "<p>72 rows × 3 columns</p>\n",
       "</div>"
      ],
      "text/plain": [
       "                         coeffs         scale  importance\n",
       "flow_20min            -0.000958  4.626030e+05    0.000958\n",
       "dollar_flow_20min      0.000908  3.797060e+07    0.000908\n",
       "flow_15min             0.000856  4.007797e+05    0.000856\n",
       "bid_ask_price_5min     0.000830  2.706129e-05    0.000830\n",
       "bid_ask_5min          -0.000820  2.063602e-03    0.000820\n",
       "...                         ...           ...         ...\n",
       "dollar_flow_60min     -0.000008  6.547583e+07    0.000008\n",
       "order_imbalance_5min   0.000008  1.220755e+04    0.000008\n",
       "order_imbalance_15min  0.000006  1.100856e+04    0.000006\n",
       "volume_5min            0.000005  8.893301e+11    0.000005\n",
       "volume_30min           0.000004  4.120802e+12    0.000004\n",
       "\n",
       "[72 rows x 3 columns]"
      ]
     },
     "execution_count": 14,
     "metadata": {},
     "output_type": "execute_result"
    }
   ],
   "source": [
    "combined_metrics = flow_metrics+liquidity_metrics+vol_metrics\n",
    "alpha, rmse, coeffs = multi_LASSO(alphas, combined_metrics, x_train, y_train['fwd_rtn_5min'], StandardScaler())\n",
    "print('Lambda = {}'.format(alpha))\n",
    "print('RMSE = {}'.format(rmse))\n",
    "coeffs"
   ]
  },
  {
   "cell_type": "markdown",
   "id": "8af51fb8",
   "metadata": {},
   "source": [
    "# LASSO with best from each category"
   ]
  },
  {
   "cell_type": "code",
   "execution_count": 15,
   "id": "e2293ed2",
   "metadata": {
    "ExecuteTime": {
     "end_time": "2022-03-17T06:58:13.555948Z",
     "start_time": "2022-03-17T06:58:13.326310Z"
    }
   },
   "outputs": [
    {
     "name": "stdout",
     "output_type": "stream",
     "text": [
      "Lambda = 1.0000000000000003e-10\n",
      "RMSE = 0.0015867114815708051\n"
     ]
    },
    {
     "data": {
      "text/html": [
       "<div>\n",
       "<style scoped>\n",
       "    .dataframe tbody tr th:only-of-type {\n",
       "        vertical-align: middle;\n",
       "    }\n",
       "\n",
       "    .dataframe tbody tr th {\n",
       "        vertical-align: top;\n",
       "    }\n",
       "\n",
       "    .dataframe thead th {\n",
       "        text-align: right;\n",
       "    }\n",
       "</style>\n",
       "<table border=\"1\" class=\"dataframe\">\n",
       "  <thead>\n",
       "    <tr style=\"text-align: right;\">\n",
       "      <th></th>\n",
       "      <th>coeffs</th>\n",
       "      <th>scale</th>\n",
       "      <th>importance</th>\n",
       "    </tr>\n",
       "  </thead>\n",
       "  <tbody>\n",
       "    <tr>\n",
       "      <th>ewm_vol_60s</th>\n",
       "      <td>0.000253</td>\n",
       "      <td>0.267865</td>\n",
       "      <td>0.000253</td>\n",
       "    </tr>\n",
       "    <tr>\n",
       "      <th>nav_discount_bid</th>\n",
       "      <td>-0.000105</td>\n",
       "      <td>0.008986</td>\n",
       "      <td>0.000105</td>\n",
       "    </tr>\n",
       "    <tr>\n",
       "      <th>bid_ask_price_10min</th>\n",
       "      <td>0.000104</td>\n",
       "      <td>0.000027</td>\n",
       "      <td>0.000104</td>\n",
       "    </tr>\n",
       "    <tr>\n",
       "      <th>flow_5min_EWMA</th>\n",
       "      <td>-0.000039</td>\n",
       "      <td>118456.531045</td>\n",
       "      <td>0.000039</td>\n",
       "    </tr>\n",
       "  </tbody>\n",
       "</table>\n",
       "</div>"
      ],
      "text/plain": [
       "                       coeffs          scale  importance\n",
       "ewm_vol_60s          0.000253       0.267865    0.000253\n",
       "nav_discount_bid    -0.000105       0.008986    0.000105\n",
       "bid_ask_price_10min  0.000104       0.000027    0.000104\n",
       "flow_5min_EWMA      -0.000039  118456.531045    0.000039"
      ]
     },
     "execution_count": 15,
     "metadata": {},
     "output_type": "execute_result"
    }
   ],
   "source": [
    "best_metrics = ['flow_5min_EWMA','bid_ask_price_10min','nav_discount_bid','ewm_vol_60s']\n",
    "alpha, rmse, coeffs = multi_LASSO(alphas, best_metrics, x_train, y_train['fwd_rtn_5min'], StandardScaler())\n",
    "print('Lambda = {}'.format(alpha))\n",
    "print('RMSE = {}'.format(rmse))\n",
    "coeffs"
   ]
  },
  {
   "cell_type": "markdown",
   "id": "0014d9f1",
   "metadata": {},
   "source": [
    "# Try different robust regressions using statsmodels (all default values)\n",
    "\n",
    "# Train on first half of 2020 and test on back half"
   ]
  },
  {
   "cell_type": "code",
   "execution_count": 16,
   "id": "d6cfbafd",
   "metadata": {
    "ExecuteTime": {
     "end_time": "2022-03-17T06:58:13.572830Z",
     "start_time": "2022-03-17T06:58:13.560007Z"
    }
   },
   "outputs": [],
   "source": [
    "def robust_regression(train_x, train_y, test_x, test_y, norms):\n",
    "    train_x = sm.add_constant(train_x)\n",
    "    test_x = sm.add_constant(test_x)\n",
    "    betas = pd.DataFrame(index=train_x.columns,columns=list(robust_norms.keys()))\n",
    "    tstats = betas.copy()\n",
    "    pvalues = betas.copy()\n",
    "    std_error = betas.copy()\n",
    "    predictions = pd.DataFrame()\n",
    "    for n in norms:\n",
    "        model = sm.RLM(train_y,train_x,M=norms[n])\n",
    "        results = model.fit()\n",
    "        tstats[n] = results.tvalues.values\n",
    "        betas[n] = results.params.values\n",
    "        pvalues[n] = results.pvalues.values\n",
    "        std_error[n] = results.bse.values\n",
    "        results = model.fit()\n",
    "        preds = results.predict(test_x)\n",
    "        predictions[n] = preds\n",
    "    predictions['actual'] = test_y\n",
    "    errors = pd.DataFrame()\n",
    "    for column in predictions.columns:\n",
    "        errors[column] = (predictions[column] - predictions['actual'])**2\n",
    "    errors.drop(columns=['actual'],inplace=True)\n",
    "    coeff_stats = {'betas':betas, 'stats':tstats, 'pvalues':pvalues, 'std_error':std_error}\n",
    "    return coeff_stats, predictions, errors"
   ]
  },
  {
   "cell_type": "code",
   "execution_count": 17,
   "id": "ba2466f2",
   "metadata": {
    "ExecuteTime": {
     "end_time": "2022-03-17T06:58:13.625096Z",
     "start_time": "2022-03-17T06:58:13.576683Z"
    }
   },
   "outputs": [],
   "source": [
    "x_train, x_test, y_train, y_test = split_data(data,'2020-06','2020-07')"
   ]
  },
  {
   "cell_type": "code",
   "execution_count": 18,
   "id": "2f3b9154",
   "metadata": {
    "ExecuteTime": {
     "end_time": "2022-03-17T06:58:13.633482Z",
     "start_time": "2022-03-17T06:58:13.628065Z"
    }
   },
   "outputs": [],
   "source": [
    "robust_norms = {'LeastSquares':norms.LeastSquares(),'AndrewWave':norms.AndrewWave(), \n",
    "                'Hampel':norms.Hampel(), 'HuberT':norms.HuberT(), \n",
    "                 'RamsayE':norms.RamsayE(), 'TrimmedMean':norms.TrimmedMean()}"
   ]
  },
  {
   "cell_type": "code",
   "execution_count": 19,
   "id": "705883e6",
   "metadata": {
    "ExecuteTime": {
     "end_time": "2022-03-17T06:58:14.237967Z",
     "start_time": "2022-03-17T06:58:13.635984Z"
    }
   },
   "outputs": [],
   "source": [
    "coeff_stats, preds, resids = \\\n",
    "    robust_regression(\n",
    "    x_train['flow_5min_EWMA'],\n",
    "    y_train['fwd_rtn_5min'],\n",
    "    x_test['flow_5min_EWMA'],\n",
    "    y_test['fwd_rtn_5min'],\n",
    "    norms = robust_norms)"
   ]
  },
  {
   "cell_type": "code",
   "execution_count": 21,
   "id": "a9681a02",
   "metadata": {
    "ExecuteTime": {
     "end_time": "2022-03-17T06:58:14.309214Z",
     "start_time": "2022-03-17T06:58:14.280153Z"
    }
   },
   "outputs": [
    {
     "data": {
      "text/html": [
       "<div>\n",
       "<style scoped>\n",
       "    .dataframe tbody tr th:only-of-type {\n",
       "        vertical-align: middle;\n",
       "    }\n",
       "\n",
       "    .dataframe tbody tr th {\n",
       "        vertical-align: top;\n",
       "    }\n",
       "\n",
       "    .dataframe thead th {\n",
       "        text-align: right;\n",
       "    }\n",
       "</style>\n",
       "<table border=\"1\" class=\"dataframe\">\n",
       "  <thead>\n",
       "    <tr style=\"text-align: right;\">\n",
       "      <th></th>\n",
       "      <th>RMSE</th>\n",
       "    </tr>\n",
       "  </thead>\n",
       "  <tbody>\n",
       "    <tr>\n",
       "      <th>RamsayE</th>\n",
       "      <td>0.000390</td>\n",
       "    </tr>\n",
       "    <tr>\n",
       "      <th>Hampel</th>\n",
       "      <td>0.000390</td>\n",
       "    </tr>\n",
       "    <tr>\n",
       "      <th>AndrewWave</th>\n",
       "      <td>0.000390</td>\n",
       "    </tr>\n",
       "    <tr>\n",
       "      <th>HuberT</th>\n",
       "      <td>0.000390</td>\n",
       "    </tr>\n",
       "    <tr>\n",
       "      <th>TrimmedMean</th>\n",
       "      <td>0.000390</td>\n",
       "    </tr>\n",
       "    <tr>\n",
       "      <th>LeastSquares</th>\n",
       "      <td>0.000391</td>\n",
       "    </tr>\n",
       "  </tbody>\n",
       "</table>\n",
       "</div>"
      ],
      "text/plain": [
       "                  RMSE\n",
       "RamsayE       0.000390\n",
       "Hampel        0.000390\n",
       "AndrewWave    0.000390\n",
       "HuberT        0.000390\n",
       "TrimmedMean   0.000390\n",
       "LeastSquares  0.000391"
      ]
     },
     "execution_count": 21,
     "metadata": {},
     "output_type": "execute_result"
    }
   ],
   "source": [
    "pd.DataFrame(np.sqrt(resids.mean()),columns=['RMSE']).sort_values('RMSE')"
   ]
  },
  {
   "cell_type": "code",
   "execution_count": 22,
   "id": "6218b7f2",
   "metadata": {
    "ExecuteTime": {
     "end_time": "2022-03-17T06:58:14.336390Z",
     "start_time": "2022-03-17T06:58:14.313243Z"
    }
   },
   "outputs": [],
   "source": [
    "signals = pd.DataFrame(index=preds.index, columns=preds.columns[:-1])\n",
    "for column in preds.columns[:-1]:\n",
    "    signals[column] = np.where(preds[column]>0, 1, 0)"
   ]
  },
  {
   "cell_type": "code",
   "execution_count": 23,
   "id": "cbeb942b",
   "metadata": {
    "ExecuteTime": {
     "end_time": "2022-03-17T06:58:14.361523Z",
     "start_time": "2022-03-17T06:58:14.336390Z"
    }
   },
   "outputs": [
    {
     "name": "stdout",
     "output_type": "stream",
     "text": [
      "Actual Return -0.009573022999999993\n"
     ]
    },
    {
     "data": {
      "text/plain": [
       "HuberT          0.034233\n",
       "LeastSquares    0.027445\n",
       "TrimmedMean    -0.001757\n",
       "Hampel         -0.005722\n",
       "AndrewWave     -0.009573\n",
       "RamsayE        -0.015249\n",
       "dtype: float64"
      ]
     },
     "execution_count": 23,
     "metadata": {},
     "output_type": "execute_result"
    }
   ],
   "source": [
    "print('Actual Return',preds['actual'].sum())\n",
    "signals.multiply(preds['actual'],axis=0).sum().sort_values(ascending=False)"
   ]
  }
 ],
 "metadata": {
  "kernelspec": {
   "display_name": "Python 3 (ipykernel)",
   "language": "python",
   "name": "python3"
  },
  "language_info": {
   "codemirror_mode": {
    "name": "ipython",
    "version": 3
   },
   "file_extension": ".py",
   "mimetype": "text/x-python",
   "name": "python",
   "nbconvert_exporter": "python",
   "pygments_lexer": "ipython3",
   "version": "3.8.12"
  },
  "toc": {
   "base_numbering": 1,
   "nav_menu": {},
   "number_sections": true,
   "sideBar": true,
   "skip_h1_title": false,
   "title_cell": "Table of Contents",
   "title_sidebar": "Contents",
   "toc_cell": false,
   "toc_position": {},
   "toc_section_display": true,
   "toc_window_display": false
  }
 },
 "nbformat": 4,
 "nbformat_minor": 5
}
